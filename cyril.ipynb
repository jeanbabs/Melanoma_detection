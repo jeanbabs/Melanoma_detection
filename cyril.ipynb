{
 "cells": [
  {
   "cell_type": "markdown",
   "metadata": {},
   "source": [
    "# Code pour manipuler fichiers etc"
   ]
  },
  {
   "cell_type": "code",
   "execution_count": 8,
   "metadata": {},
   "outputs": [],
   "source": [
    "melanomias = []\n",
    "\n",
    "with open(\"data\\PH2Dataset\\melanomes.txt\", \"r\") as ifile:\n",
    "    for line in ifile:\n",
    "        melanomias.append(line.split(\"\\n\")[0])\n",
    "            "
   ]
  },
  {
   "cell_type": "code",
   "execution_count": 31,
   "metadata": {},
   "outputs": [],
   "source": [
    "import os\n",
    "dirpath = \"data\\PH2Dataset\\images\"\n",
    "for folder_name in os.listdir(\"data\\PH2Dataset\\images\\.\"):\n",
    "    if folder_name in melanomias:\n",
    "        newname =  \"m_\" + folder_name \n",
    "        os.rename(os.path.join(dirpath, folder_name), os.path.join(dirpath, newname))"
   ]
  },
  {
   "cell_type": "code",
   "execution_count": 61,
   "metadata": {},
   "outputs": [],
   "source": [
    "dirpath = \"data\\melanoma\"\n",
    "target_path = \"data\\melanoma_img\"\n",
    "for folder_name in os.listdir(dirpath):\n",
    "    input_path = os.path.join(dirpath, folder_name, folder_name.split(\"_\")[1] + \"_Dermoscopic_Image\", folder_name.split(\"_\")[1] + \".bmp\" )\n",
    "    shutil.copy2(input_path, target_path)\n",
    "\n",
    "   \n"
   ]
  },
  {
   "cell_type": "code",
   "execution_count": 19,
   "metadata": {},
   "outputs": [],
   "source": [
    "import numpy as np"
   ]
  },
  {
   "cell_type": "code",
   "execution_count": 21,
   "metadata": {},
   "outputs": [],
   "source": [
    "melanomias_img_name = []\n",
    "\n",
    "for img_name in os.listdir(\"data/moles_dataset/melanoma_img/\"):\n",
    "    melanomias_img_name.append(img_name)"
   ]
  },
  {
   "cell_type": "code",
   "execution_count": 24,
   "metadata": {},
   "outputs": [],
   "source": [
    "x = np.array([imread(\"data/moles_dataset/melanoma_img/\"+fname) for fname in melanomias_img_name])"
   ]
  },
  {
   "cell_type": "code",
   "execution_count": 32,
   "metadata": {},
   "outputs": [],
   "source": [
    "x.dump('data/moles_dataset/melanomias.npy')"
   ]
  },
  {
   "cell_type": "code",
   "execution_count": 35,
   "metadata": {},
   "outputs": [],
   "source": [
    "abnormal_img_name = []\n",
    "\n",
    "for img_name in os.listdir(\"data/moles_dataset/abnormal_img/\"):\n",
    "    abnormal_img_name.append(img_name)\n",
    " "
   ]
  },
  {
   "cell_type": "code",
   "execution_count": 37,
   "metadata": {},
   "outputs": [],
   "source": [
    "x = np.array([imread(\"data/moles_dataset/abnormal_img/\"+fname) for fname in abnormal_img_name])\n",
    "x.dump('data/moles_dataset/abnormal.npy')"
   ]
  },
  {
   "cell_type": "code",
   "execution_count": 40,
   "metadata": {},
   "outputs": [],
   "source": [
    "normal_img_name = []\n",
    "\n",
    "for img_name in os.listdir(\"data/moles_dataset/normal_img/\"):\n",
    "    normal_img_name.append(img_name)\n",
    " "
   ]
  },
  {
   "cell_type": "code",
   "execution_count": 42,
   "metadata": {},
   "outputs": [],
   "source": [
    "x = np.array([imread(\"data/moles_dataset/normal_img/\"+fname) for fname in normal_img_name])\n",
    "x.dump('data/moles_dataset/normal.npy')"
   ]
  }
 ],
 "metadata": {
  "kernelspec": {
   "display_name": "Python 3",
   "language": "python",
   "name": "python3"
  },
  "language_info": {
   "codemirror_mode": {
    "name": "ipython",
    "version": 3
   },
   "file_extension": ".py",
   "mimetype": "text/x-python",
   "name": "python",
   "nbconvert_exporter": "python",
   "pygments_lexer": "ipython3",
   "version": "3.6.7"
  }
 },
 "nbformat": 4,
 "nbformat_minor": 2
}
